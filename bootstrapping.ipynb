{
 "cells": [
  {
   "cell_type": "code",
   "execution_count": 65,
   "metadata": {},
   "outputs": [
    {
     "name": "stdout",
     "output_type": "stream",
     "text": [
      "Linear Regression - Mean Absolute Error: 777048.1628619065\n",
      "Linear Regression - Mean Squared Error: 1117817343961.227\n",
      "Linear Regression - R^2: 0.679903399426071\n",
      "\n",
      "Decision Tree - Mean Absolute Error: 655012.705113263\n",
      "Decision Tree - Mean Squared Error: 764641303320.7579\n",
      "Decision Tree - R^2: 0.781038393102726\n",
      "\n",
      "Random Forest - Mean Absolute Error: 665687.2158928746\n",
      "Random Forest - Mean Squared Error: 803749670497.2633\n",
      "Random Forest - R^2: 0.7698393761481004\n",
      "\n",
      "Gradient Boosting - Mean Absolute Error: 408342.2673994449\n",
      "Gradient Boosting - Mean Squared Error: 297966598351.79987\n",
      "Gradient Boosting - R^2: 0.9146747044745294\n",
      "\n"
     ]
    }
   ],
   "source": [
    "import pandas as pd\n",
    "import numpy as np\n",
    "from sklearn.linear_model import LinearRegression\n",
    "from sklearn.tree import DecisionTreeRegressor\n",
    "from sklearn.ensemble import RandomForestRegressor, GradientBoostingRegressor\n",
    "from sklearn.metrics import mean_squared_error, mean_absolute_error\n",
    "from sklearn.preprocessing import LabelEncoder\n",
    "\n",
    "# Lade dein Dataset\n",
    "data = pd.read_csv('Housing.csv')\n",
    "\n",
    "\n",
    "# Kodieren der kategorischen Merkmale in numerische Werte\n",
    "label_encoder = LabelEncoder()\n",
    "categorical_cols = ['mainroad', 'guestroom', 'basement', 'hotwaterheating', 'airconditioning', 'prefarea', 'furnishingstatus']\n",
    "\n",
    "for col in categorical_cols:\n",
    "    data[col] = label_encoder.fit_transform(data[col])\n",
    "\n",
    "# Splitte das Dataset in Features (X) und Target (y)\n",
    "X = data.drop('price', axis=1)  # Features (alle Spalten außer 'price')\n",
    "y = data['price']  # Zielvariable (Preis)\n",
    "\n",
    "# Funktion zum Bootstrappen und Testen verschiedener Regressionsmodelle\n",
    "def bootstrap_regression(X, y, models, n_iterations=100):\n",
    "    predictions = {model_name: [] for model_name in models.keys()}\n",
    "    \n",
    "    for i in range(n_iterations):\n",
    "        # Generiere ein Bootstrap-Sample (mit Ersetzung)\n",
    "        sample_X = X.sample(n=len(X), replace=True)\n",
    "        sample_y = y.loc[sample_X.index]\n",
    "        \n",
    "        for model_name, model in models.items():\n",
    "            # Trainiere das Modell auf dem Bootstrap-Sample\n",
    "            model.fit(sample_X, sample_y)\n",
    "            \n",
    "            # Mache Vorhersagen auf dem gesamten Datensatz oder einem Test-Set\n",
    "            predictions[model_name].append(model.predict(X))\n",
    "    \n",
    "    # Berechne den Durchschnitt der Vorhersagen für jedes Modell\n",
    "    mean_predictions = {model_name: np.mean(np.array(pred_list), axis=0) for model_name, pred_list in predictions.items()}\n",
    "    \n",
    "    return mean_predictions\n",
    "\n",
    "# Definiere die Regressionsmodelle, die du testen möchtest\n",
    "models = {\n",
    "    'Linear Regression': LinearRegression(),\n",
    "    'Decision Tree': DecisionTreeRegressor(max_depth=5,random_state=42),\n",
    "    'Random Forest': RandomForestRegressor(n_estimators=100,max_depth=5,random_state=42),\n",
    "    'Gradient Boosting': GradientBoostingRegressor(n_estimators=100, max_depth=5,random_state=42)\n",
    "}\n",
    "\n",
    "# Führe das Bootstrapping aus und teste die Modelle\n",
    "mean_predictions = bootstrap_regression(X, y, models, n_iterations=100)\n",
    "\n",
    "# Bewerte jedes Modell und berechne die MSE und R^2\n",
    "for model_name, predictions in mean_predictions.items():\n",
    "    mse = mean_squared_error(y, predictions)\n",
    "    mae = mean_absolute_error(y, predictions)\n",
    "    r_squared = 1 - mse / np.var(y)\n",
    "    \n",
    "    print(f\"{model_name} - Mean Absolute Error: {mae}\")\n",
    "    print(f\"{model_name} - Mean Squared Error: {mse}\")\n",
    "    print(f\"{model_name} - R^2: {r_squared}\\n\")\n"
   ]
  },
  {
   "cell_type": "code",
   "execution_count": 63,
   "metadata": {},
   "outputs": [
    {
     "data": {
      "text/plain": [
       "price                   6230000\n",
       "area                       6600\n",
       "bedrooms                      3\n",
       "bathrooms                     2\n",
       "stories                       1\n",
       "mainroad                    yes\n",
       "guestroom                    no\n",
       "basement                    yes\n",
       "hotwaterheating              no\n",
       "airconditioning             yes\n",
       "parking                       0\n",
       "prefarea                    yes\n",
       "furnishingstatus    unfurnished\n",
       "Name: 100, dtype: object"
      ]
     },
     "execution_count": 63,
     "metadata": {},
     "output_type": "execute_result"
    }
   ],
   "source": [
    "# Lade den ersten Eintrag aus der CSV-Datei (angenommen, die Datei heißt 'Housing.csv')\n",
    "new_entry = pd.read_csv('Housing.csv').iloc[100]\n",
    "new_entry"
   ]
  },
  {
   "cell_type": "code",
   "execution_count": 64,
   "metadata": {},
   "outputs": [
    {
     "name": "stdout",
     "output_type": "stream",
     "text": [
      "area                6600\n",
      "bedrooms               3\n",
      "bathrooms              2\n",
      "stories                1\n",
      "mainroad               0\n",
      "guestroom              0\n",
      "basement               0\n",
      "hotwaterheating        0\n",
      "airconditioning        0\n",
      "parking                0\n",
      "prefarea               0\n",
      "furnishingstatus       0\n",
      "Name: 100, dtype: object\n",
      "Linear Regression - Vorhergesagter Preis: 4712933.208337621\n",
      "Decision Tree - Vorhergesagter Preis: 6206565.217391305\n",
      "Random Forest - Vorhergesagter Preis: 6090022.579342162\n",
      "Gradient Boosting - Vorhergesagter Preis: 5091014.69228576\n"
     ]
    },
    {
     "name": "stderr",
     "output_type": "stream",
     "text": [
      "/opt/anaconda3/lib/python3.12/site-packages/sklearn/utils/validation.py:2739: UserWarning: X does not have valid feature names, but LinearRegression was fitted with feature names\n",
      "  warnings.warn(\n",
      "/opt/anaconda3/lib/python3.12/site-packages/sklearn/utils/validation.py:2739: UserWarning: X does not have valid feature names, but DecisionTreeRegressor was fitted with feature names\n",
      "  warnings.warn(\n",
      "/opt/anaconda3/lib/python3.12/site-packages/sklearn/utils/validation.py:2739: UserWarning: X does not have valid feature names, but RandomForestRegressor was fitted with feature names\n",
      "  warnings.warn(\n",
      "/opt/anaconda3/lib/python3.12/site-packages/sklearn/utils/validation.py:2739: UserWarning: X does not have valid feature names, but GradientBoostingRegressor was fitted with feature names\n",
      "  warnings.warn(\n"
     ]
    }
   ],
   "source": [
    "\n",
    "new_entry = new_entry.drop('price')  # Entferne die 'price' Spalte, da sie nicht benötigt wird\n",
    "\n",
    "# Kodieren der kategorischen Merkmale in numerische Werte\n",
    "label_encoder = LabelEncoder()\n",
    "categorical_cols = ['mainroad', 'guestroom', 'basement', 'hotwaterheating', 'airconditioning', 'prefarea', 'furnishingstatus']\n",
    "\n",
    "# Wenden des LabelEncoders auf jede kategorische Spalte an\n",
    "for col in categorical_cols:\n",
    "    # Sicherstellen, dass wir die Spalte als Serie übergeben und sie in 'new_entry' korrekt umwandeln\n",
    "    new_entry[col] = label_encoder.fit_transform([new_entry[col]])\n",
    "\n",
    "# Überprüfen des vorverarbeiteten neuen Eintrags\n",
    "print(new_entry)\n",
    "\n",
    "# Vorhersage für den neuen Eintrag mit allen getesteten Modellen\n",
    "for model_name, model in models.items():\n",
    "    # Die Eingabedaten müssen als 2D-Array übergeben werden (Matrix-Form)\n",
    "    prediction = model.predict([new_entry])\n",
    "    print(f\"{model_name} - Vorhergesagter Preis: {prediction[0]}\")\n"
   ]
  }
 ],
 "metadata": {
  "kernelspec": {
   "display_name": "base",
   "language": "python",
   "name": "python3"
  },
  "language_info": {
   "codemirror_mode": {
    "name": "ipython",
    "version": 3
   },
   "file_extension": ".py",
   "mimetype": "text/x-python",
   "name": "python",
   "nbconvert_exporter": "python",
   "pygments_lexer": "ipython3",
   "version": "3.12.7"
  }
 },
 "nbformat": 4,
 "nbformat_minor": 2
}
